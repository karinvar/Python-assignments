{
 "cells": [
  {
   "cell_type": "code",
   "execution_count": 1,
   "metadata": {},
   "outputs": [
    {
     "name": "stdout",
     "output_type": "stream",
     "text": [
      "The area of the rectangle is 36.0 and the perimeter is 30.0\n"
     ]
    }
   ],
   "source": [
    "width=float(input('Enter width: '))\n",
    "length=float(input('Enter length: '))\n",
    "print(\"The area of the rectangle is\", width*length, \"and the perimeter is\", 2*(width+length))"
   ]
  },
  {
   "cell_type": "code",
   "execution_count": 2,
   "metadata": {},
   "outputs": [
    {
     "name": "stdout",
     "output_type": "stream",
     "text": [
      "The area of the circle is 12.566370614359172 and the circumference is 12.566370614359172\n"
     ]
    }
   ],
   "source": [
    "radius=float(input('Enter radius: '))\n",
    "import math\n",
    "pi=math.pi\n",
    "print(\"The area of the circle is\", pi*radius**2, \"and the circumference is\", 2*pi*radius)"
   ]
  }
 ],
 "metadata": {
  "kernelspec": {
   "display_name": "Python 3",
   "language": "python",
   "name": "python3"
  },
  "language_info": {
   "codemirror_mode": {
    "name": "ipython",
    "version": 3
   },
   "file_extension": ".py",
   "mimetype": "text/x-python",
   "name": "python",
   "nbconvert_exporter": "python",
   "pygments_lexer": "ipython3",
   "version": "3.13.0"
  }
 },
 "nbformat": 4,
 "nbformat_minor": 2
}
